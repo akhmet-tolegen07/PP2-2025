{
 "cells": [
  {
   "cell_type": "markdown",
   "metadata": {},
   "source": [
    "Home"
   ]
  },
  {
   "cell_type": "code",
   "execution_count": 1,
   "metadata": {},
   "outputs": [
    {
     "name": "stdout",
     "output_type": "stream",
     "text": [
      "Hello, World!\n"
     ]
    }
   ],
   "source": [
    "print (\"Hello, World!\")"
   ]
  },
  {
   "cell_type": "markdown",
   "metadata": {},
   "source": [
    "Comments"
   ]
  },
  {
   "cell_type": "code",
   "execution_count": 4,
   "metadata": {},
   "outputs": [],
   "source": [
    "#The comment\n",
    "#print(\"Hello, World\")\n",
    "\"\"\"\n",
    "The comment which written\n",
    "in more than one line.\n",
    "\"\"\""
   ]
  },
  {
   "cell_type": "markdown",
   "metadata": {},
   "source": [
    "Variables"
   ]
  },
  {
   "cell_type": "code",
   "execution_count": 5,
   "metadata": {},
   "outputs": [
    {
     "name": "stdout",
     "output_type": "stream",
     "text": [
      "17\n",
      "Akhmet\n"
     ]
    }
   ],
   "source": [
    "x = 17\n",
    "name = \"Akhmet\"\n",
    "print(x)\n",
    "print(name)\n"
   ]
  },
  {
   "cell_type": "code",
   "execution_count": 6,
   "metadata": {},
   "outputs": [
    {
     "name": "stdout",
     "output_type": "stream",
     "text": [
      "18\n"
     ]
    }
   ],
   "source": [
    "age = 17\n",
    "age = 18\n",
    "print(age)\n"
   ]
  },
  {
   "cell_type": "code",
   "execution_count": 9,
   "metadata": {},
   "outputs": [
    {
     "name": "stdout",
     "output_type": "stream",
     "text": [
      "3\n",
      "3\n",
      "3.0\n"
     ]
    }
   ],
   "source": [
    "a = str(3) #'3'\n",
    "b = int(3) # 3\n",
    "c = float(3) # 3.0\n",
    "print(a)\n",
    "print(b)\n",
    "print(c)"
   ]
  },
  {
   "cell_type": "code",
   "execution_count": 10,
   "metadata": {},
   "outputs": [],
   "source": [
    "ab = \"Max\"\n",
    "a_b = \"Max\"\n",
    "_a_b = \"Max\"\n",
    "aB = \"Max\"\n",
    "AB = \"Max\" \n",
    "ab2 = \"Max\""
   ]
  },
  {
   "cell_type": "code",
   "execution_count": 11,
   "metadata": {},
   "outputs": [
    {
     "ename": "SyntaxError",
     "evalue": "invalid decimal literal (1309197416.py, line 1)",
     "output_type": "error",
     "traceback": [
      "\u001b[1;36m  Cell \u001b[1;32mIn[11], line 1\u001b[1;36m\u001b[0m\n\u001b[1;33m    2ab = \"Max\"\u001b[0m\n\u001b[1;37m    ^\u001b[0m\n\u001b[1;31mSyntaxError\u001b[0m\u001b[1;31m:\u001b[0m invalid decimal literal\n"
     ]
    }
   ],
   "source": [
    "2ab = \"Max\"\n",
    "a-b = \"Max\"\n",
    "a b = \"Max\""
   ]
  },
  {
   "cell_type": "code",
   "execution_count": 14,
   "metadata": {},
   "outputs": [
    {
     "name": "stdout",
     "output_type": "stream",
     "text": [
      "apple\n",
      "banana\n",
      "orange\n",
      "orange\n",
      "['apple', 'banana', 'pineapple', 'strawberry']\n",
      "['apple', 'banana', 'pineapple', 'strawberry']\n",
      "['apple', 'banana', 'pineapple', 'strawberry']\n"
     ]
    }
   ],
   "source": [
    "a1, a2 = \"apple\", \"banana\"\n",
    "print (a1)\n",
    "print (a2)\n",
    "\n",
    "x1 = x2 = \"orange\"\n",
    "print (x1)\n",
    "print (x2)\n",
    "\n",
    "fruits = [\"apple\", \"banana\", \"pineapple\", \"strawberry\"]\n",
    "print (fruits)\n",
    "b1 = b2 = fruits\n",
    "print (b1)\n",
    "print (b2)"
   ]
  },
  {
   "cell_type": "code",
   "execution_count": 19,
   "metadata": {},
   "outputs": [
    {
     "name": "stdout",
     "output_type": "stream",
     "text": [
      "Hello World !\n",
      "HelloWorld!\n",
      "Hello World !\n",
      "5\n",
      "2D\n",
      "2 D\n"
     ]
    }
   ],
   "source": [
    "s1, s2, s3 = \"Hello\", \"World\", \"!\"\n",
    "print (s1, s2, s3)\n",
    "print (s1 + s2 + s3)\n",
    "print (s1 + \" \" + s2 + \" \" + s3)\n",
    "\n",
    "x = 2\n",
    "y = 3\n",
    "z = \"D\"\n",
    "print (x + y)\n",
    "print (str(x) + z)\n",
    "print (x, z)\n"
   ]
  },
  {
   "cell_type": "code",
   "execution_count": 28,
   "metadata": {},
   "outputs": [
    {
     "name": "stdout",
     "output_type": "stream",
     "text": [
      "My name is Doni\n",
      "Aa\n",
      "Yy\n",
      "Book\n",
      "Book\n"
     ]
    }
   ],
   "source": [
    "name = \"Doni\"\n",
    "def func():\n",
    "    print (\"My name is \" + name)\n",
    "func()\n",
    "\n",
    "y = \"Yy\"\n",
    "def yfunc():\n",
    "    y = \"Aa\"\n",
    "    print (y)\n",
    "yfunc()\n",
    "print (y)\n",
    "\n",
    "c = \"Journal\"\n",
    "def f():\n",
    "    global c \n",
    "    c = \"Book\"\n",
    "    print (c)\n",
    "f()\n",
    "print (c)"
   ]
  },
  {
   "cell_type": "markdown",
   "metadata": {},
   "source": [
    "Data types"
   ]
  },
  {
   "cell_type": "code",
   "execution_count": 30,
   "metadata": {},
   "outputs": [
    {
     "name": "stdout",
     "output_type": "stream",
     "text": [
      "<class 'int'> <class 'float'> <class 'str'> <class 'str'> <class 'complex'> <class 'list'> <class 'str'> <class 'set'> <class 'dict'> <class 'bool'>\n"
     ]
    }
   ],
   "source": [
    "a = 5\n",
    "b = 5.5\n",
    "c = 'A'\n",
    "d = \"Doner\"\n",
    "e = 1j\n",
    "f = [\"apple\"]\n",
    "g = (\"apple\")\n",
    "h = {\"apple\"}\n",
    "k = {\"fruits\" : \"apple\"}\n",
    "l = True\n",
    "\n",
    "print(type(a), type(b), type(c), type(d), type(e), type(f), type(g), type(h), type(k), type(l))"
   ]
  },
  {
   "cell_type": "markdown",
   "metadata": {},
   "source": [
    "Python numbers"
   ]
  },
  {
   "cell_type": "code",
   "execution_count": 53,
   "metadata": {},
   "outputs": [
    {
     "name": "stdout",
     "output_type": "stream",
     "text": [
      "<class 'int'> <class 'int'> <class 'int'>\n",
      "<class 'float'> <class 'float'> <class 'float'>\n",
      "<class 'float'> 12.0\n",
      "<class 'int'> 1\n"
     ]
    }
   ],
   "source": [
    "x, y, z = 12, 2135321432, -123241\n",
    "print (type(x), type(y), type(z))\n",
    "\n",
    "x1, y1, z1 = 1.2, 43.0, -12.7\n",
    "print (type(x1), type(y1), type(z1))\n",
    "\n",
    "x = float(x)\n",
    "x1 = int(x1)\n",
    "print(type(x), x)\n",
    "print(type(x1), x1)"
   ]
  },
  {
   "cell_type": "code",
   "execution_count": 52,
   "metadata": {},
   "outputs": [
    {
     "name": "stdout",
     "output_type": "stream",
     "text": [
      "6\n"
     ]
    }
   ],
   "source": [
    "import random\n",
    "print(random.randrange(1,10))"
   ]
  },
  {
   "cell_type": "markdown",
   "metadata": {},
   "source": [
    "Python Strings"
   ]
  },
  {
   "cell_type": "code",
   "execution_count": 56,
   "metadata": {},
   "outputs": [
    {
     "name": "stdout",
     "output_type": "stream",
     "text": [
      "hello hello\n",
      "Hello, 'World'\n",
      "Hello, \"World\"\n"
     ]
    }
   ],
   "source": [
    "print('hello', \"hello\")\n",
    "print(\"Hello, 'World'\")\n",
    "print('Hello, \"World\"')"
   ]
  },
  {
   "cell_type": "code",
   "execution_count": 57,
   "metadata": {},
   "outputs": [
    {
     "name": "stdout",
     "output_type": "stream",
     "text": [
      "A faskfpsp akpdak pwdkap kwpak pskafpkawp \n",
      "fkeosfskfo eakf oeks\n",
      "k oekwofkowkfoskofk aof\n",
      "ekfoesk ofkeoskokowfokofqw\n"
     ]
    }
   ],
   "source": [
    "text = \"\"\"A faskfpsp akpdak pwdkap kwpak pskafpkawp \n",
    "fkeosfskfo eakf oeks\n",
    "k oekwofkowkfoskofk aof\n",
    "ekfoesk ofkeoskokowfokofqw\"\"\"\n",
    "print(text)"
   ]
  },
  {
   "cell_type": "code",
   "execution_count": 65,
   "metadata": {},
   "outputs": [
    {
     "name": "stdout",
     "output_type": "stream",
     "text": [
      "H\n",
      "5\n",
      "True\n",
      "Yes, 'e' is in word\n",
      "True\n",
      "a\n",
      "p\n",
      "p\n",
      "l\n",
      "e\n"
     ]
    }
   ],
   "source": [
    "word = \"Hello\"\n",
    "print(word[0])\n",
    "\n",
    "print(len(word))\n",
    "\n",
    "print ('e' in word)\n",
    "if 'e' in word:\n",
    "    print(\"Yes, 'e' is in word\")\n",
    "\n",
    "print('s' not in word)\n",
    "if 's' not in word:\n",
    "    print(\"Yes, 'e' is not in word\")\n",
    "\n",
    "for i in \"apple\":\n",
    "    print(i)\n"
   ]
  },
  {
   "cell_type": "code",
   "execution_count": 80,
   "metadata": {},
   "outputs": [
    {
     "name": "stdout",
     "output_type": "stream",
     "text": [
      "llo,\n",
      "Hello,\n",
      "llo, World! \n",
      "r\n",
      "HELLO, WORLD! \n",
      "hello, world! \n",
      "Hello, World!\n",
      "Jello, World! \n",
      "['Hello', ' World! ']\n"
     ]
    }
   ],
   "source": [
    "a = \"Hello, World! \"\n",
    "print(a[2:6])\n",
    "print(a[:6])\n",
    "print(a[2:])\n",
    "print(a[-5:-4])\n",
    "print(a.upper())\n",
    "print(a.lower())\n",
    "print(a.strip())\n",
    "print(a.replace(\"H\", \"J\"))\n",
    "print(a.split(\",\"))\n"
   ]
  },
  {
   "cell_type": "code",
   "execution_count": 82,
   "metadata": {},
   "outputs": [
    {
     "name": "stdout",
     "output_type": "stream",
     "text": [
      "Hello World\n"
     ]
    }
   ],
   "source": [
    "a = \"Hello\"\n",
    "b = \"World\"\n",
    "c = a + \" \" + b\n",
    "print (c)"
   ]
  },
  {
   "cell_type": "code",
   "execution_count": 85,
   "metadata": {},
   "outputs": [
    {
     "name": "stdout",
     "output_type": "stream",
     "text": [
      "My name is Akhmet, I am 17\n",
      "Pi: 3.14\n"
     ]
    }
   ],
   "source": [
    "age = 17\n",
    "txt = f\"My name is Akhmet, I am {age}\"\n",
    "print (txt)\n",
    "\n",
    "pi = 3.141552\n",
    "p = f\"Pi: {pi:.2f}\"\n",
    "print (p)\n"
   ]
  },
  {
   "cell_type": "code",
   "execution_count": 92,
   "metadata": {},
   "outputs": [
    {
     "ename": "SyntaxError",
     "evalue": "(unicode error) 'unicodeescape' codec can't decode bytes in position 48-49: truncated \\xXX escape (2782339809.py, line 4)",
     "output_type": "error",
     "traceback": [
      "\u001b[1;36m  Cell \u001b[1;32mIn[92], line 4\u001b[1;36m\u001b[0m\n\u001b[1;33m    s = \"aDShdashd \\\\ asdjisadasd \\n ajaidsa Ajdsia ajda \\xhh asaA \"\u001b[0m\n\u001b[1;37m        ^\u001b[0m\n\u001b[1;31mSyntaxError\u001b[0m\u001b[1;31m:\u001b[0m (unicode error) 'unicodeescape' codec can't decode bytes in position 48-49: truncated \\xXX escape\n"
     ]
    }
   ],
   "source": [
    "txt = \"The title of the book is \\\"Harry Potter\\\". \"\n",
    "print (txt)\n",
    "\n",
    "s = \"aDShdashd \\\\ asdjisadasd \\n ajaidsa Ajdsia ajda asaA \"\n",
    "print (s)"
   ]
  }
 ],
 "metadata": {
  "kernelspec": {
   "display_name": "Python 3",
   "language": "python",
   "name": "python3"
  },
  "language_info": {
   "codemirror_mode": {
    "name": "ipython",
    "version": 3
   },
   "file_extension": ".py",
   "mimetype": "text/x-python",
   "name": "python",
   "nbconvert_exporter": "python",
   "pygments_lexer": "ipython3",
   "version": "3.13.0"
  }
 },
 "nbformat": 4,
 "nbformat_minor": 2
}
